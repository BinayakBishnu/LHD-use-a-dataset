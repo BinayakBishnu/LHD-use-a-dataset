{
 "cells": [
  {
   "cell_type": "markdown",
   "metadata": {},
   "source": [
    "## Importing required libraries"
   ]
  },
  {
   "cell_type": "code",
   "execution_count": 1,
   "metadata": {},
   "outputs": [],
   "source": [
    "import numpy as np\n",
    "import pandas as pd\n",
    "import re"
   ]
  },
  {
   "cell_type": "markdown",
   "metadata": {},
   "source": [
    "## Importing CSV file"
   ]
  },
  {
   "cell_type": "code",
   "execution_count": 2,
   "metadata": {},
   "outputs": [
    {
     "data": {
      "text/html": [
       "<div><div id=a3096b69-85af-47a7-867a-dfc5075fbc7f style=\"display:none; background-color:#9D6CFF; color:white; width:200px; height:30px; padding-left:5px; border-radius:4px; flex-direction:row; justify-content:space-around; align-items:center;\" onmouseover=\"this.style.backgroundColor='#BA9BF8'\" onmouseout=\"this.style.backgroundColor='#9D6CFF'\" onclick=\"window.commands?.execute('create-mitosheet-from-dataframe-output');\">See Full Dataframe in Mito</div> <script> if (window.commands.hasCommand('create-mitosheet-from-dataframe-output')) document.getElementById('a3096b69-85af-47a7-867a-dfc5075fbc7f').style.display = 'flex' </script> <table border=\"1\" class=\"dataframe\">\n",
       "  <thead>\n",
       "    <tr style=\"text-align: right;\">\n",
       "      <th></th>\n",
       "      <th>first_name</th>\n",
       "      <th>last_name</th>\n",
       "      <th>mobile_number</th>\n",
       "      <th>email</th>\n",
       "      <th>gender</th>\n",
       "      <th>car_make</th>\n",
       "      <th>car_model</th>\n",
       "    </tr>\n",
       "    <tr>\n",
       "      <th>customer_id</th>\n",
       "      <th></th>\n",
       "      <th></th>\n",
       "      <th></th>\n",
       "      <th></th>\n",
       "      <th></th>\n",
       "      <th></th>\n",
       "      <th></th>\n",
       "    </tr>\n",
       "  </thead>\n",
       "  <tbody>\n",
       "    <tr>\n",
       "      <th>1</th>\n",
       "      <td>Catriona</td>\n",
       "      <td>Alven</td>\n",
       "      <td>283-577-5685</td>\n",
       "      <td>calven0@mozilla.com</td>\n",
       "      <td>Male</td>\n",
       "      <td>Pontiac</td>\n",
       "      <td>Firebird</td>\n",
       "    </tr>\n",
       "    <tr>\n",
       "      <th>2</th>\n",
       "      <td>Alistair</td>\n",
       "      <td>Koppke</td>\n",
       "      <td>617-988-5980</td>\n",
       "      <td>akoppke1@unc.edu</td>\n",
       "      <td>Male</td>\n",
       "      <td>Pontiac</td>\n",
       "      <td>Firefly</td>\n",
       "    </tr>\n",
       "    <tr>\n",
       "      <th>3</th>\n",
       "      <td>Krishna</td>\n",
       "      <td>Merrywether</td>\n",
       "      <td>588-930-9381</td>\n",
       "      <td>kmerrywether2@blog.com</td>\n",
       "      <td>Male</td>\n",
       "      <td>GMC</td>\n",
       "      <td>Jimmy</td>\n",
       "    </tr>\n",
       "    <tr>\n",
       "      <th>4</th>\n",
       "      <td>Lona</td>\n",
       "      <td>Wilfling</td>\n",
       "      <td>623-945-0973</td>\n",
       "      <td>lwilfling3@msn.com</td>\n",
       "      <td>Female</td>\n",
       "      <td>Pontiac</td>\n",
       "      <td>Turbo Firefly</td>\n",
       "    </tr>\n",
       "    <tr>\n",
       "      <th>5</th>\n",
       "      <td>Jody</td>\n",
       "      <td>Hordell</td>\n",
       "      <td>186-673-9010</td>\n",
       "      <td>jhordell4@ifeng.com</td>\n",
       "      <td>Female</td>\n",
       "      <td>Mercury</td>\n",
       "      <td>Mountaineer</td>\n",
       "    </tr>\n",
       "    <tr>\n",
       "      <th>...</th>\n",
       "      <td>...</td>\n",
       "      <td>...</td>\n",
       "      <td>...</td>\n",
       "      <td>...</td>\n",
       "      <td>...</td>\n",
       "      <td>...</td>\n",
       "      <td>...</td>\n",
       "    </tr>\n",
       "    <tr>\n",
       "      <th>996</th>\n",
       "      <td>Neala</td>\n",
       "      <td>Adamowitz</td>\n",
       "      <td>410-377-6016</td>\n",
       "      <td>nadamowitzrn@4shared.com</td>\n",
       "      <td>Female</td>\n",
       "      <td>Dodge</td>\n",
       "      <td>Grand Caravan</td>\n",
       "    </tr>\n",
       "    <tr>\n",
       "      <th>997</th>\n",
       "      <td>Flora</td>\n",
       "      <td>Josham</td>\n",
       "      <td>796-126-4819</td>\n",
       "      <td>fjoshamro@nydailynews.com</td>\n",
       "      <td>Male</td>\n",
       "      <td>Mazda</td>\n",
       "      <td>Mazda6</td>\n",
       "    </tr>\n",
       "    <tr>\n",
       "      <th>998</th>\n",
       "      <td>Efren</td>\n",
       "      <td>MacVaugh</td>\n",
       "      <td>106-886-9230</td>\n",
       "      <td>emacvaughrp@1688.com</td>\n",
       "      <td>Male</td>\n",
       "      <td>BMW</td>\n",
       "      <td>7 Series</td>\n",
       "    </tr>\n",
       "    <tr>\n",
       "      <th>999</th>\n",
       "      <td>Bev</td>\n",
       "      <td>Humbell</td>\n",
       "      <td>622-171-5254</td>\n",
       "      <td>bhumbellrq@earthlink.net</td>\n",
       "      <td>Female</td>\n",
       "      <td>Dodge</td>\n",
       "      <td>Dakota Club</td>\n",
       "    </tr>\n",
       "    <tr>\n",
       "      <th>1000</th>\n",
       "      <td>Louisa</td>\n",
       "      <td>Caton</td>\n",
       "      <td>971-357-1702</td>\n",
       "      <td>lcatonrr@abc.net.au</td>\n",
       "      <td>Female</td>\n",
       "      <td>Hummer</td>\n",
       "      <td>H3</td>\n",
       "    </tr>\n",
       "  </tbody>\n",
       "</table></div>"
      ],
      "text/plain": [
       "            first_name    last_name mobile_number                      email  \\\n",
       "customer_id                                                                    \n",
       "1             Catriona        Alven  283-577-5685        calven0@mozilla.com   \n",
       "2             Alistair       Koppke  617-988-5980           akoppke1@unc.edu   \n",
       "3              Krishna  Merrywether  588-930-9381     kmerrywether2@blog.com   \n",
       "4                 Lona     Wilfling  623-945-0973         lwilfling3@msn.com   \n",
       "5                 Jody      Hordell  186-673-9010        jhordell4@ifeng.com   \n",
       "...                ...          ...           ...                        ...   \n",
       "996              Neala    Adamowitz  410-377-6016   nadamowitzrn@4shared.com   \n",
       "997              Flora       Josham  796-126-4819  fjoshamro@nydailynews.com   \n",
       "998              Efren     MacVaugh  106-886-9230       emacvaughrp@1688.com   \n",
       "999                Bev      Humbell  622-171-5254   bhumbellrq@earthlink.net   \n",
       "1000            Louisa        Caton  971-357-1702        lcatonrr@abc.net.au   \n",
       "\n",
       "             gender car_make      car_model  \n",
       "customer_id                                  \n",
       "1              Male  Pontiac       Firebird  \n",
       "2              Male  Pontiac        Firefly  \n",
       "3              Male      GMC          Jimmy  \n",
       "4            Female  Pontiac  Turbo Firefly  \n",
       "5            Female  Mercury    Mountaineer  \n",
       "...             ...      ...            ...  \n",
       "996          Female    Dodge  Grand Caravan  \n",
       "997            Male    Mazda         Mazda6  \n",
       "998            Male      BMW       7 Series  \n",
       "999          Female    Dodge    Dakota Club  \n",
       "1000         Female   Hummer             H3  \n",
       "\n",
       "[1000 rows x 7 columns]"
      ]
     },
     "execution_count": 2,
     "metadata": {},
     "output_type": "execute_result"
    }
   ],
   "source": [
    "dataDF = pd.read_csv(\"customer_data.csv\",index_col=\"customer_id\")\n",
    "dataDF"
   ]
  },
  {
   "cell_type": "code",
   "execution_count": 3,
   "metadata": {},
   "outputs": [
    {
     "name": "stdout",
     "output_type": "stream",
     "text": [
      "<class 'pandas.core.frame.DataFrame'>\n",
      "Int64Index: 1000 entries, 1 to 1000\n",
      "Data columns (total 7 columns):\n",
      " #   Column         Non-Null Count  Dtype \n",
      "---  ------         --------------  ----- \n",
      " 0   first_name     1000 non-null   object\n",
      " 1   last_name      1000 non-null   object\n",
      " 2   mobile_number  982 non-null    object\n",
      " 3   email          982 non-null    object\n",
      " 4   gender         982 non-null    object\n",
      " 5   car_make       1000 non-null   object\n",
      " 6   car_model      1000 non-null   object\n",
      "dtypes: object(7)\n",
      "memory usage: 62.5+ KB\n"
     ]
    }
   ],
   "source": [
    "# information about columns\n",
    "dataDF.info()"
   ]
  },
  {
   "cell_type": "code",
   "execution_count": 4,
   "metadata": {},
   "outputs": [
    {
     "data": {
      "text/html": [
       "<div><div id=ea2e19a7-90ec-4309-b034-53010a1b1207 style=\"display:none; background-color:#9D6CFF; color:white; width:200px; height:30px; padding-left:5px; border-radius:4px; flex-direction:row; justify-content:space-around; align-items:center;\" onmouseover=\"this.style.backgroundColor='#BA9BF8'\" onmouseout=\"this.style.backgroundColor='#9D6CFF'\" onclick=\"window.commands?.execute('create-mitosheet-from-dataframe-output');\">See Full Dataframe in Mito</div> <script> if (window.commands.hasCommand('create-mitosheet-from-dataframe-output')) document.getElementById('ea2e19a7-90ec-4309-b034-53010a1b1207').style.display = 'flex' </script> <table border=\"1\" class=\"dataframe\">\n",
       "  <thead>\n",
       "    <tr style=\"text-align: right;\">\n",
       "      <th></th>\n",
       "      <th>first_name</th>\n",
       "      <th>last_name</th>\n",
       "      <th>mobile_number</th>\n",
       "      <th>email</th>\n",
       "      <th>gender</th>\n",
       "      <th>car_make</th>\n",
       "      <th>car_model</th>\n",
       "    </tr>\n",
       "    <tr>\n",
       "      <th>customer_id</th>\n",
       "      <th></th>\n",
       "      <th></th>\n",
       "      <th></th>\n",
       "      <th></th>\n",
       "      <th></th>\n",
       "      <th></th>\n",
       "      <th></th>\n",
       "    </tr>\n",
       "  </thead>\n",
       "  <tbody>\n",
       "    <tr>\n",
       "      <th>362</th>\n",
       "      <td>Yvonne</td>\n",
       "      <td>Pareman</td>\n",
       "      <td>880-718-6968</td>\n",
       "      <td>yparemana1@upenn.edu</td>\n",
       "      <td>Male</td>\n",
       "      <td>Mitsubishi</td>\n",
       "      <td>Truck</td>\n",
       "    </tr>\n",
       "    <tr>\n",
       "      <th>547</th>\n",
       "      <td>Noelle</td>\n",
       "      <td>Altofts</td>\n",
       "      <td>980-624-9772</td>\n",
       "      <td>naltoftsf6@springer.com</td>\n",
       "      <td>Male</td>\n",
       "      <td>Ford</td>\n",
       "      <td>Econoline E350</td>\n",
       "    </tr>\n",
       "    <tr>\n",
       "      <th>467</th>\n",
       "      <td>Tomi</td>\n",
       "      <td>Hovey</td>\n",
       "      <td>129-718-1716</td>\n",
       "      <td>thoveycy@freewebs.com</td>\n",
       "      <td>Female</td>\n",
       "      <td>Volvo</td>\n",
       "      <td>960</td>\n",
       "    </tr>\n",
       "    <tr>\n",
       "      <th>631</th>\n",
       "      <td>Piotr</td>\n",
       "      <td>Gorham</td>\n",
       "      <td>802-910-9208</td>\n",
       "      <td>pgorhamhi@bing.com</td>\n",
       "      <td>Male</td>\n",
       "      <td>Chrysler</td>\n",
       "      <td>Aspen</td>\n",
       "    </tr>\n",
       "    <tr>\n",
       "      <th>940</th>\n",
       "      <td>Wallie</td>\n",
       "      <td>MacClure</td>\n",
       "      <td>547-502-0249</td>\n",
       "      <td>wmacclureq3@sourceforge.net</td>\n",
       "      <td>Female</td>\n",
       "      <td>Mitsubishi</td>\n",
       "      <td>Galant</td>\n",
       "    </tr>\n",
       "    <tr>\n",
       "      <th>843</th>\n",
       "      <td>Orv</td>\n",
       "      <td>Issac</td>\n",
       "      <td>654-115-4316</td>\n",
       "      <td>oissacne@list-manage.com</td>\n",
       "      <td>Female</td>\n",
       "      <td>Chevrolet</td>\n",
       "      <td>Beretta</td>\n",
       "    </tr>\n",
       "    <tr>\n",
       "      <th>983</th>\n",
       "      <td>Daffy</td>\n",
       "      <td>Leyborne</td>\n",
       "      <td>174-574-8235</td>\n",
       "      <td>dleybornera@ihg.com</td>\n",
       "      <td>Male</td>\n",
       "      <td>Saab</td>\n",
       "      <td>900</td>\n",
       "    </tr>\n",
       "    <tr>\n",
       "      <th>346</th>\n",
       "      <td>Greg</td>\n",
       "      <td>Chicchetto</td>\n",
       "      <td>793-506-7756</td>\n",
       "      <td>gchicchetto9l@goo.ne.jp</td>\n",
       "      <td>Female</td>\n",
       "      <td>Chevrolet</td>\n",
       "      <td>Express 1500</td>\n",
       "    </tr>\n",
       "  </tbody>\n",
       "</table></div>"
      ],
      "text/plain": [
       "            first_name   last_name mobile_number                        email  \\\n",
       "customer_id                                                                     \n",
       "362             Yvonne     Pareman  880-718-6968         yparemana1@upenn.edu   \n",
       "547             Noelle     Altofts  980-624-9772      naltoftsf6@springer.com   \n",
       "467               Tomi       Hovey  129-718-1716        thoveycy@freewebs.com   \n",
       "631              Piotr      Gorham  802-910-9208           pgorhamhi@bing.com   \n",
       "940             Wallie    MacClure  547-502-0249  wmacclureq3@sourceforge.net   \n",
       "843                Orv       Issac  654-115-4316     oissacne@list-manage.com   \n",
       "983              Daffy    Leyborne  174-574-8235          dleybornera@ihg.com   \n",
       "346               Greg  Chicchetto  793-506-7756      gchicchetto9l@goo.ne.jp   \n",
       "\n",
       "             gender    car_make       car_model  \n",
       "customer_id                                      \n",
       "362            Male  Mitsubishi           Truck  \n",
       "547            Male        Ford  Econoline E350  \n",
       "467          Female       Volvo             960  \n",
       "631            Male    Chrysler           Aspen  \n",
       "940          Female  Mitsubishi          Galant  \n",
       "843          Female   Chevrolet         Beretta  \n",
       "983            Male        Saab             900  \n",
       "346          Female   Chevrolet    Express 1500  "
      ]
     },
     "execution_count": 4,
     "metadata": {},
     "output_type": "execute_result"
    }
   ],
   "source": [
    "# checking sample\n",
    "dataDF.sample(8)"
   ]
  },
  {
   "cell_type": "markdown",
   "metadata": {},
   "source": [
    "## Cleaning data"
   ]
  },
  {
   "cell_type": "code",
   "execution_count": 5,
   "metadata": {},
   "outputs": [
    {
     "data": {
      "text/plain": [
       "first_name  last_name   mobile_number  email                          gender       car_make       car_model       \n",
       "Aarika      Hebson      850-610-3079   ahebsonbq@apple.com            Female       Mercedes-Benz  300E                1\n",
       "Matt        Birkenshaw  176-315-6526   mbirkenshawlo@bbb.org          Female       Pontiac        Montana             1\n",
       "Maude       MacElroy    717-992-3518   mmacelroy2r@accuweather.com    Female       Eagle          Talon               1\n",
       "Maura       Kerrich     888-715-9953   mkerrich9g@japanpost.jp        Male         Nissan         Pathfinder          1\n",
       "Maureene    Bagshawe    643-490-7773   mbagshawe19@sourceforge.net    Polygender   Nissan         Titan               1\n",
       "                                                                                                                     ..\n",
       "Flemming    Ambrogini   312-370-5351   fambroginilb@odnoklassniki.ru  Female       Volvo          S60                 1\n",
       "Flora       Josham      796-126-4819   fjoshamro@nydailynews.com      Male         Mazda          Mazda6              1\n",
       "Florie      Hawkshaw    837-405-7447   fhawkshawrk@msn.com            Male         Subaru         Loyale              1\n",
       "Florinda    Culwen      171-704-2251   fculwen4o@fastcompany.com      Genderqueer  Lamborghini    Murciélago LP640    1\n",
       "Zorina      Knottley    937-752-3811   zknottley27@fastcompany.com    Female       Mitsubishi     Eclipse             1\n",
       "Length: 982, dtype: int64"
      ]
     },
     "execution_count": 5,
     "metadata": {},
     "output_type": "execute_result"
    }
   ],
   "source": [
    "dataDF.shape    # (1000,7)\n",
    "dataDF.value_counts()"
   ]
  },
  {
   "cell_type": "markdown",
   "metadata": {},
   "source": [
    "length shown is 982 and not 1000\n",
    "therefore null rows present"
   ]
  },
  {
   "cell_type": "markdown",
   "metadata": {},
   "source": [
    "### 1. Null values"
   ]
  },
  {
   "cell_type": "code",
   "execution_count": 6,
   "metadata": {},
   "outputs": [
    {
     "data": {
      "text/plain": [
       "first_name        0\n",
       "last_name         0\n",
       "mobile_number    18\n",
       "email            18\n",
       "gender           18\n",
       "car_make          0\n",
       "car_model         0\n",
       "dtype: int64"
      ]
     },
     "execution_count": 6,
     "metadata": {},
     "output_type": "execute_result"
    }
   ],
   "source": [
    "# dataDF[dataDF.isnull()==True]\n",
    "null_count = dataDF.isnull().sum()\n",
    "null_count"
   ]
  },
  {
   "cell_type": "markdown",
   "metadata": {},
   "source": [
    "3 columns have 18 NaN each"
   ]
  },
  {
   "cell_type": "markdown",
   "metadata": {},
   "source": [
    "#### Removing null values"
   ]
  },
  {
   "cell_type": "code",
   "execution_count": 7,
   "metadata": {},
   "outputs": [
    {
     "data": {
      "text/plain": [
       "0"
      ]
     },
     "execution_count": 7,
     "metadata": {},
     "output_type": "execute_result"
    }
   ],
   "source": [
    "# cannot drop whole row for NaN mobile and email, might affect data analysis\n",
    "# mobile number and email is not mandatory for statistics, therefore zero value will not affect analysis\n",
    "\n",
    "dataDF.loc[:,'mobile_number'].isnull().sum() # before filling = 18\n",
    "dataDF.mobile_number = dataDF.loc[:,'mobile_number'].fillna(0) # filling\n",
    "dataDF.loc[:,'mobile_number'].isnull().sum() # after filling"
   ]
  },
  {
   "cell_type": "code",
   "execution_count": 8,
   "metadata": {},
   "outputs": [
    {
     "data": {
      "text/plain": [
       "0"
      ]
     },
     "execution_count": 8,
     "metadata": {},
     "output_type": "execute_result"
    }
   ],
   "source": [
    "# cannot drop whole row for NaN mobile and email, might affect data analysis\n",
    "# mobile number and email is not mandatory for statistics, therefore zero value will not affect analysis\n",
    "\n",
    "dataDF.loc[:,'email'].isnull().sum() # before filling = 18\n",
    "dataDF.email = dataDF.loc[:,'email'].fillna(\"\") # filling\n",
    "dataDF.loc[:,'email'].isnull().sum() # after filling"
   ]
  },
  {
   "cell_type": "code",
   "execution_count": 9,
   "metadata": {},
   "outputs": [
    {
     "data": {
      "text/plain": [
       "0"
      ]
     },
     "execution_count": 9,
     "metadata": {},
     "output_type": "execute_result"
    }
   ],
   "source": [
    "# gender might be required for statistics\n",
    "# no way to predict gender based on other columns or rows\n",
    "# better to drop\n",
    "\n",
    "dataDF.loc[:,'gender'].isnull().sum() # before dropping = 18\n",
    "dataDF = dataDF[dataDF['gender'].notna()]\n",
    "dataDF.loc[:,'gender'].isnull().sum() # after dropping"
   ]
  },
  {
   "cell_type": "markdown",
   "metadata": {},
   "source": [
    "#### Email ID"
   ]
  },
  {
   "cell_type": "markdown",
   "metadata": {},
   "source": [
    "### 2. Formatting"
   ]
  },
  {
   "cell_type": "markdown",
   "metadata": {},
   "source": [
    "#### Email ID"
   ]
  },
  {
   "cell_type": "code",
   "execution_count": 10,
   "metadata": {},
   "outputs": [
    {
     "data": {
      "text/html": [
       "<div><div id=8c22df62-8727-49e9-9b55-31a4535e2746 style=\"display:none; background-color:#9D6CFF; color:white; width:200px; height:30px; padding-left:5px; border-radius:4px; flex-direction:row; justify-content:space-around; align-items:center;\" onmouseover=\"this.style.backgroundColor='#BA9BF8'\" onmouseout=\"this.style.backgroundColor='#9D6CFF'\" onclick=\"window.commands?.execute('create-mitosheet-from-dataframe-output');\">See Full Dataframe in Mito</div> <script> if (window.commands.hasCommand('create-mitosheet-from-dataframe-output')) document.getElementById('8c22df62-8727-49e9-9b55-31a4535e2746').style.display = 'flex' </script> <table border=\"1\" class=\"dataframe\">\n",
       "  <thead>\n",
       "    <tr style=\"text-align: right;\">\n",
       "      <th></th>\n",
       "      <th>bool_value</th>\n",
       "      <th>email</th>\n",
       "    </tr>\n",
       "    <tr>\n",
       "      <th>customer_id</th>\n",
       "      <th></th>\n",
       "      <th></th>\n",
       "    </tr>\n",
       "  </thead>\n",
       "  <tbody>\n",
       "  </tbody>\n",
       "</table></div>"
      ],
      "text/plain": [
       "Empty DataFrame\n",
       "Columns: [bool_value, email]\n",
       "Index: []"
      ]
     },
     "execution_count": 10,
     "metadata": {},
     "output_type": "execute_result"
    }
   ],
   "source": [
    "regex_expression_email = re.compile(r'^[a-zA-Z0-9_.]+@[a-zA-Z0-9\\-]+\\.[a-zA-Z_.]+$')\n",
    "\n",
    "bool_values = dataDF.email.apply(lambda x: bool(regex_expression_email.match(x)))\n",
    "\n",
    "bool_values = pd.concat([bool_values, dataDF.email], axis=1)\n",
    "bool_values.columns=['bool_value','email']\n",
    "bool_values.loc[bool_values.bool_value==False]"
   ]
  },
  {
   "cell_type": "markdown",
   "metadata": {},
   "source": [
    "bool_values is empty => all emails are in appropriate format"
   ]
  },
  {
   "cell_type": "markdown",
   "metadata": {},
   "source": [
    "#### Mobile Number"
   ]
  },
  {
   "cell_type": "code",
   "execution_count": 11,
   "metadata": {},
   "outputs": [
    {
     "name": "stderr",
     "output_type": "stream",
     "text": [
      "C:\\Users\\Binayak\\AppData\\Local\\Programs\\Python\\Python39\\lib\\site-packages\\pandas\\core\\indexing.py:1667: SettingWithCopyWarning: \n",
      "A value is trying to be set on a copy of a slice from a DataFrame.\n",
      "Try using .loc[row_indexer,col_indexer] = value instead\n",
      "\n",
      "See the caveats in the documentation: https://pandas.pydata.org/pandas-docs/stable/user_guide/indexing.html#returning-a-view-versus-a-copy\n",
      "  self.obj[key] = value\n"
     ]
    },
    {
     "data": {
      "text/html": [
       "<div><div id=b318030c-9481-4d20-8585-19ef464dc95e style=\"display:none; background-color:#9D6CFF; color:white; width:200px; height:30px; padding-left:5px; border-radius:4px; flex-direction:row; justify-content:space-around; align-items:center;\" onmouseover=\"this.style.backgroundColor='#BA9BF8'\" onmouseout=\"this.style.backgroundColor='#9D6CFF'\" onclick=\"window.commands?.execute('create-mitosheet-from-dataframe-output');\">See Full Dataframe in Mito</div> <script> if (window.commands.hasCommand('create-mitosheet-from-dataframe-output')) document.getElementById('b318030c-9481-4d20-8585-19ef464dc95e').style.display = 'flex' </script> <table border=\"1\" class=\"dataframe\">\n",
       "  <thead>\n",
       "    <tr style=\"text-align: right;\">\n",
       "      <th></th>\n",
       "      <th>first_name</th>\n",
       "      <th>last_name</th>\n",
       "      <th>mobile_number</th>\n",
       "      <th>email</th>\n",
       "      <th>gender</th>\n",
       "      <th>car_make</th>\n",
       "      <th>car_model</th>\n",
       "      <th>modified_mobile_number</th>\n",
       "    </tr>\n",
       "    <tr>\n",
       "      <th>customer_id</th>\n",
       "      <th></th>\n",
       "      <th></th>\n",
       "      <th></th>\n",
       "      <th></th>\n",
       "      <th></th>\n",
       "      <th></th>\n",
       "      <th></th>\n",
       "      <th></th>\n",
       "    </tr>\n",
       "  </thead>\n",
       "  <tbody>\n",
       "    <tr>\n",
       "      <th>1</th>\n",
       "      <td>Catriona</td>\n",
       "      <td>Alven</td>\n",
       "      <td>283-577-5685</td>\n",
       "      <td>calven0@mozilla.com</td>\n",
       "      <td>Male</td>\n",
       "      <td>Pontiac</td>\n",
       "      <td>Firebird</td>\n",
       "      <td>2835775685</td>\n",
       "    </tr>\n",
       "    <tr>\n",
       "      <th>2</th>\n",
       "      <td>Alistair</td>\n",
       "      <td>Koppke</td>\n",
       "      <td>617-988-5980</td>\n",
       "      <td>akoppke1@unc.edu</td>\n",
       "      <td>Male</td>\n",
       "      <td>Pontiac</td>\n",
       "      <td>Firefly</td>\n",
       "      <td>6179885980</td>\n",
       "    </tr>\n",
       "    <tr>\n",
       "      <th>3</th>\n",
       "      <td>Krishna</td>\n",
       "      <td>Merrywether</td>\n",
       "      <td>588-930-9381</td>\n",
       "      <td>kmerrywether2@blog.com</td>\n",
       "      <td>Male</td>\n",
       "      <td>GMC</td>\n",
       "      <td>Jimmy</td>\n",
       "      <td>5889309381</td>\n",
       "    </tr>\n",
       "    <tr>\n",
       "      <th>4</th>\n",
       "      <td>Lona</td>\n",
       "      <td>Wilfling</td>\n",
       "      <td>623-945-0973</td>\n",
       "      <td>lwilfling3@msn.com</td>\n",
       "      <td>Female</td>\n",
       "      <td>Pontiac</td>\n",
       "      <td>Turbo Firefly</td>\n",
       "      <td>6239450973</td>\n",
       "    </tr>\n",
       "    <tr>\n",
       "      <th>5</th>\n",
       "      <td>Jody</td>\n",
       "      <td>Hordell</td>\n",
       "      <td>186-673-9010</td>\n",
       "      <td>jhordell4@ifeng.com</td>\n",
       "      <td>Female</td>\n",
       "      <td>Mercury</td>\n",
       "      <td>Mountaineer</td>\n",
       "      <td>1866739010</td>\n",
       "    </tr>\n",
       "    <tr>\n",
       "      <th>...</th>\n",
       "      <td>...</td>\n",
       "      <td>...</td>\n",
       "      <td>...</td>\n",
       "      <td>...</td>\n",
       "      <td>...</td>\n",
       "      <td>...</td>\n",
       "      <td>...</td>\n",
       "      <td>...</td>\n",
       "    </tr>\n",
       "    <tr>\n",
       "      <th>996</th>\n",
       "      <td>Neala</td>\n",
       "      <td>Adamowitz</td>\n",
       "      <td>410-377-6016</td>\n",
       "      <td>nadamowitzrn@4shared.com</td>\n",
       "      <td>Female</td>\n",
       "      <td>Dodge</td>\n",
       "      <td>Grand Caravan</td>\n",
       "      <td>4103776016</td>\n",
       "    </tr>\n",
       "    <tr>\n",
       "      <th>997</th>\n",
       "      <td>Flora</td>\n",
       "      <td>Josham</td>\n",
       "      <td>796-126-4819</td>\n",
       "      <td>fjoshamro@nydailynews.com</td>\n",
       "      <td>Male</td>\n",
       "      <td>Mazda</td>\n",
       "      <td>Mazda6</td>\n",
       "      <td>7961264819</td>\n",
       "    </tr>\n",
       "    <tr>\n",
       "      <th>998</th>\n",
       "      <td>Efren</td>\n",
       "      <td>MacVaugh</td>\n",
       "      <td>106-886-9230</td>\n",
       "      <td>emacvaughrp@1688.com</td>\n",
       "      <td>Male</td>\n",
       "      <td>BMW</td>\n",
       "      <td>7 Series</td>\n",
       "      <td>1068869230</td>\n",
       "    </tr>\n",
       "    <tr>\n",
       "      <th>999</th>\n",
       "      <td>Bev</td>\n",
       "      <td>Humbell</td>\n",
       "      <td>622-171-5254</td>\n",
       "      <td>bhumbellrq@earthlink.net</td>\n",
       "      <td>Female</td>\n",
       "      <td>Dodge</td>\n",
       "      <td>Dakota Club</td>\n",
       "      <td>6221715254</td>\n",
       "    </tr>\n",
       "    <tr>\n",
       "      <th>1000</th>\n",
       "      <td>Louisa</td>\n",
       "      <td>Caton</td>\n",
       "      <td>971-357-1702</td>\n",
       "      <td>lcatonrr@abc.net.au</td>\n",
       "      <td>Female</td>\n",
       "      <td>Hummer</td>\n",
       "      <td>H3</td>\n",
       "      <td>9713571702</td>\n",
       "    </tr>\n",
       "  </tbody>\n",
       "</table></div>"
      ],
      "text/plain": [
       "            first_name    last_name mobile_number                      email  \\\n",
       "customer_id                                                                    \n",
       "1             Catriona        Alven  283-577-5685        calven0@mozilla.com   \n",
       "2             Alistair       Koppke  617-988-5980           akoppke1@unc.edu   \n",
       "3              Krishna  Merrywether  588-930-9381     kmerrywether2@blog.com   \n",
       "4                 Lona     Wilfling  623-945-0973         lwilfling3@msn.com   \n",
       "5                 Jody      Hordell  186-673-9010        jhordell4@ifeng.com   \n",
       "...                ...          ...           ...                        ...   \n",
       "996              Neala    Adamowitz  410-377-6016   nadamowitzrn@4shared.com   \n",
       "997              Flora       Josham  796-126-4819  fjoshamro@nydailynews.com   \n",
       "998              Efren     MacVaugh  106-886-9230       emacvaughrp@1688.com   \n",
       "999                Bev      Humbell  622-171-5254   bhumbellrq@earthlink.net   \n",
       "1000            Louisa        Caton  971-357-1702        lcatonrr@abc.net.au   \n",
       "\n",
       "             gender car_make      car_model modified_mobile_number  \n",
       "customer_id                                                         \n",
       "1              Male  Pontiac       Firebird             2835775685  \n",
       "2              Male  Pontiac        Firefly             6179885980  \n",
       "3              Male      GMC          Jimmy             5889309381  \n",
       "4            Female  Pontiac  Turbo Firefly             6239450973  \n",
       "5            Female  Mercury    Mountaineer             1866739010  \n",
       "...             ...      ...            ...                    ...  \n",
       "996          Female    Dodge  Grand Caravan             4103776016  \n",
       "997            Male    Mazda         Mazda6             7961264819  \n",
       "998            Male      BMW       7 Series             1068869230  \n",
       "999          Female    Dodge    Dakota Club             6221715254  \n",
       "1000         Female   Hummer             H3             9713571702  \n",
       "\n",
       "[982 rows x 8 columns]"
      ]
     },
     "execution_count": 11,
     "metadata": {},
     "output_type": "execute_result"
    }
   ],
   "source": [
    "dataDF.mobile_number.isnull().unique()\n",
    "# no null entries\n",
    "\n",
    "abc = dataDF.mobile_number.str.split('-')\n",
    "abc = abc.str.join('')\n",
    "abc\n",
    "# now no more dashes in mobile numbers\n",
    "\n",
    "dataDF.loc[:,('modified_mobile_number')] = abc.values\n",
    "dataDF"
   ]
  },
  {
   "cell_type": "code",
   "execution_count": 14,
   "metadata": {},
   "outputs": [
    {
     "data": {
      "text/html": [
       "<div><div id=21756e04-58d5-4f0c-975e-7ee983e7b74a style=\"display:none; background-color:#9D6CFF; color:white; width:200px; height:30px; padding-left:5px; border-radius:4px; flex-direction:row; justify-content:space-around; align-items:center;\" onmouseover=\"this.style.backgroundColor='#BA9BF8'\" onmouseout=\"this.style.backgroundColor='#9D6CFF'\" onclick=\"window.commands?.execute('create-mitosheet-from-dataframe-output');\">See Full Dataframe in Mito</div> <script> if (window.commands.hasCommand('create-mitosheet-from-dataframe-output')) document.getElementById('21756e04-58d5-4f0c-975e-7ee983e7b74a').style.display = 'flex' </script> <table border=\"1\" class=\"dataframe\">\n",
       "  <thead>\n",
       "    <tr style=\"text-align: right;\">\n",
       "      <th></th>\n",
       "      <th>bool_value</th>\n",
       "      <th>mobno</th>\n",
       "    </tr>\n",
       "    <tr>\n",
       "      <th>customer_id</th>\n",
       "      <th></th>\n",
       "      <th></th>\n",
       "    </tr>\n",
       "  </thead>\n",
       "  <tbody>\n",
       "  </tbody>\n",
       "</table></div>"
      ],
      "text/plain": [
       "Empty DataFrame\n",
       "Columns: [bool_value, mobno]\n",
       "Index: []"
      ]
     },
     "execution_count": 14,
     "metadata": {},
     "output_type": "execute_result"
    }
   ],
   "source": [
    "regex_expression_mobno = re.compile(r'^[0-9]{10}')\n",
    "\n",
    "bool_values2 = dataDF.modified_mobile_number.apply(lambda x: bool(regex_expression_mobno.match(x)))\n",
    "\n",
    "bool_values2 = pd.concat([bool_values2, dataDF.mobile_number], axis=1)\n",
    "bool_values2.columns=['bool_value','mobno']\n",
    "bool_values2.loc[bool_values2.bool_value==False]"
   ]
  },
  {
   "cell_type": "markdown",
   "metadata": {},
   "source": [
    "bool_values is empty => all mobile numbers are in appropriate format"
   ]
  }
 ],
 "metadata": {
  "interpreter": {
   "hash": "0712b4fd19f91e28dae98b9c5d97f04b37ff205d074e082abc82a09aa2fc6535"
  },
  "kernelspec": {
   "display_name": "Python 3.9.6 64-bit",
   "language": "python",
   "name": "python3"
  },
  "language_info": {
   "codemirror_mode": {
    "name": "ipython",
    "version": 3
   },
   "file_extension": ".py",
   "mimetype": "text/x-python",
   "name": "python",
   "nbconvert_exporter": "python",
   "pygments_lexer": "ipython3",
   "version": "3.9.6"
  },
  "orig_nbformat": 4
 },
 "nbformat": 4,
 "nbformat_minor": 2
}
