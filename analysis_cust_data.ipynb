{
 "cells": [
  {
   "cell_type": "markdown",
   "metadata": {},
   "source": [
    "## Importing required libraries"
   ]
  },
  {
   "cell_type": "code",
   "execution_count": null,
   "metadata": {},
   "outputs": [],
   "source": [
    "import numpy as np\n",
    "import pandas as pd\n",
    "import re"
   ]
  },
  {
   "cell_type": "markdown",
   "metadata": {},
   "source": [
    "## Importing CSV file"
   ]
  },
  {
   "cell_type": "code",
   "execution_count": null,
   "metadata": {},
   "outputs": [],
   "source": [
    "dataDF = pd.read_csv(\"customer_data.csv\",index_col=\"customer_id\")\n",
    "dataDF"
   ]
  },
  {
   "cell_type": "code",
   "execution_count": null,
   "metadata": {},
   "outputs": [],
   "source": [
    "# information about columns\n",
    "dataDF.info()"
   ]
  },
  {
   "cell_type": "code",
   "execution_count": null,
   "metadata": {},
   "outputs": [],
   "source": [
    "# checking sample\n",
    "dataDF.sample(8)"
   ]
  },
  {
   "cell_type": "markdown",
   "metadata": {},
   "source": [
    "## Cleaning data"
   ]
  },
  {
   "cell_type": "code",
   "execution_count": null,
   "metadata": {},
   "outputs": [],
   "source": [
    "dataDF.shape    # (1000,7)\n",
    "dataDF.value_counts()"
   ]
  },
  {
   "cell_type": "markdown",
   "metadata": {},
   "source": [
    "length shown is 982 and not 1000\n",
    "therefore null rows present"
   ]
  },
  {
   "cell_type": "markdown",
   "metadata": {},
   "source": [
    "### 1. Null values"
   ]
  },
  {
   "cell_type": "code",
   "execution_count": null,
   "metadata": {},
   "outputs": [],
   "source": [
    "# dataDF[dataDF.isnull()==True]\n",
    "null_count = dataDF.isnull().sum()\n",
    "null_count"
   ]
  },
  {
   "cell_type": "markdown",
   "metadata": {},
   "source": [
    "3 columns have 18 NaN each"
   ]
  },
  {
   "cell_type": "markdown",
   "metadata": {},
   "source": [
    "#### Removing null values"
   ]
  },
  {
   "cell_type": "code",
   "execution_count": null,
   "metadata": {},
   "outputs": [],
   "source": [
    "# cannot drop whole row for NaN mobile and email, might affect data analysis\n",
    "# mobile number and email is not mandatory for statistics, therefore zero value will not affect analysis\n",
    "\n",
    "dataDF.loc[:,'mobile_number'].isnull().sum() # before filling = 18\n",
    "dataDF.mobile_number = dataDF.loc[:,'mobile_number'].fillna(0) # filling\n",
    "dataDF.loc[:,'mobile_number'].isnull().sum() # after filling"
   ]
  },
  {
   "cell_type": "code",
   "execution_count": null,
   "metadata": {},
   "outputs": [],
   "source": [
    "# cannot drop whole row for NaN mobile and email, might affect data analysis\n",
    "# mobile number and email is not mandatory for statistics, therefore zero value will not affect analysis\n",
    "\n",
    "dataDF.loc[:,'email'].isnull().sum() # before filling = 18\n",
    "dataDF.email = dataDF.loc[:,'email'].fillna(\"\") # filling\n",
    "dataDF.loc[:,'email'].isnull().sum() # after filling"
   ]
  },
  {
   "cell_type": "code",
   "execution_count": null,
   "metadata": {},
   "outputs": [],
   "source": [
    "# gender might be required for statistics\n",
    "# no way to predict gender based on other columns or rows\n",
    "# better to drop\n",
    "\n",
    "dataDF.loc[:,'gender'].isnull().sum() # before dropping = 18\n",
    "dataDF = dataDF[dataDF['gender'].notna()]\n",
    "dataDF.loc[:,'gender'].isnull().sum() # after dropping"
   ]
  },
  {
   "cell_type": "markdown",
   "metadata": {},
   "source": [
    "#### Email ID"
   ]
  },
  {
   "cell_type": "markdown",
   "metadata": {},
   "source": [
    "### 2. Formatting"
   ]
  },
  {
   "cell_type": "markdown",
   "metadata": {},
   "source": [
    "#### Email ID"
   ]
  },
  {
   "cell_type": "code",
   "execution_count": null,
   "metadata": {},
   "outputs": [],
   "source": [
    "regex_expression_email = re.compile(r'^[a-zA-Z0-9_.]+@[a-zA-Z0-9\\-]+\\.[a-zA-Z_.]+$')\n",
    "\n",
    "bool_values = dataDF.email.apply(lambda x: bool(regex_expression_email.match(x)))\n",
    "\n",
    "bool_values = pd.concat([bool_values, dataDF.email], axis=1)\n",
    "bool_values.columns=['bool_value','email']\n",
    "bool_values.loc[bool_values.bool_value==False]"
   ]
  },
  {
   "cell_type": "markdown",
   "metadata": {},
   "source": [
    "bool_values is empty => all emails are in appropriate format"
   ]
  },
  {
   "cell_type": "markdown",
   "metadata": {},
   "source": [
    "#### Mobile Number"
   ]
  },
  {
   "cell_type": "code",
   "execution_count": null,
   "metadata": {},
   "outputs": [],
   "source": [
    "dataDF.mobile_number.isnull().unique()\n",
    "# no null entries\n",
    "\n",
    "abc = dataDF.mobile_number.str.split('-')\n",
    "abc.str.join('')\n",
    "abc\n",
    "# now no more dashes in mobile numbers"
   ]
  }
 ],
 "metadata": {
  "interpreter": {
   "hash": "0712b4fd19f91e28dae98b9c5d97f04b37ff205d074e082abc82a09aa2fc6535"
  },
  "kernelspec": {
   "display_name": "Python 3.9.6 64-bit",
   "language": "python",
   "name": "python3"
  },
  "language_info": {
   "codemirror_mode": {
    "name": "ipython",
    "version": 3
   },
   "file_extension": ".py",
   "mimetype": "text/x-python",
   "name": "python",
   "nbconvert_exporter": "python",
   "pygments_lexer": "ipython3",
   "version": "3.9.6"
  },
  "orig_nbformat": 4
 },
 "nbformat": 4,
 "nbformat_minor": 2
}
